{
  "cells": [
    {
      "cell_type": "markdown",
      "metadata": {
        "id": "view-in-github",
        "colab_type": "text"
      },
      "source": [
        "<a href=\"https://colab.research.google.com/github/RazmonScouser/TODDPI22-1/blob/main/%D0%9B%D0%B0%D0%B1%D0%BE%D1%80%D0%B0%D1%82%D0%BE%D1%80%D0%BD%D0%B0%D1%8F4_%D0%90%D1%80%D1%83%D1%88%D0%B0%D0%BD%D1%8F%D0%BD_%D0%A0%D0%B0%D0%B7%D0%BC%D0%B8%D0%BA.ipynb\" target=\"_parent\"><img src=\"https://colab.research.google.com/assets/colab-badge.svg\" alt=\"Open In Colab\"/></a>"
      ]
    },
    {
      "cell_type": "markdown",
      "metadata": {
        "id": "YKBOJC8avgd7"
      },
      "source": [
        "# Работа с Excel"
      ]
    },
    {
      "cell_type": "markdown",
      "metadata": {
        "id": "b7wIWGp7vgeO"
      },
      "source": [
        "Материалы:\n",
        "* Макрушин С.В. Лекция 7: Работа с Excel\n",
        "* https://docs.xlwings.org/en/stable/quickstart.html\n",
        "* https://nbviewer.jupyter.org/github/pybokeh/jupyter_notebooks/blob/master/xlwings/Excel_Formatting.ipynb#search_text\n"
      ]
    },
    {
      "cell_type": "markdown",
      "metadata": {
        "id": "ahhgfFF2vgeP"
      },
      "source": [
        "## Задачи для совместного разбора"
      ]
    },
    {
      "cell_type": "code",
      "execution_count": null,
      "metadata": {
        "id": "q7e3yPIFvgeQ"
      },
      "outputs": [],
      "source": [
        "import pandas as pd"
      ]
    },
    {
      "cell_type": "markdown",
      "metadata": {
        "id": "Bc0rNAuuvgeS"
      },
      "source": [
        "1. На листе \"Рецептура\" файла `себестоимостьА_в1.xlsx` для области \"Пшеничный хлеб\" рассчитать себестоимость всех видов продукции."
      ]
    },
    {
      "cell_type": "markdown",
      "metadata": {
        "id": "7cYjZzXDvgeT"
      },
      "source": [
        "2. Результаты расчетов 1.1 сохранить в отдельном столбце области \"Пшеничный хлеб\""
      ]
    },
    {
      "cell_type": "markdown",
      "metadata": {
        "id": "hfl0uxUBvgeU"
      },
      "source": [
        "3. Приблизить форматирование столбца, добавленного в задаче 2 к оформлению всей области."
      ]
    },
    {
      "cell_type": "markdown",
      "metadata": {
        "id": "WPkvSd2qvgeU"
      },
      "source": [
        "4. Выполнить 3 с помощью \"протягиваемых\" формул."
      ]
    },
    {
      "cell_type": "markdown",
      "metadata": {
        "id": "24SbiCFXvgeV"
      },
      "source": [
        "## Лабораторная работа 7.1"
      ]
    },
    {
      "cell_type": "markdown",
      "metadata": {
        "id": "8_qC-53NvgeV"
      },
      "source": [
        "1. Загрузите данные из файлов `reviews_sample.csv` (__ЛР2__) и `recipes_sample.csv` (__ЛР5__) в виде `pd.DataFrame`. Обратите внимание на корректное считывание столбца(ов) с индексами. Оставьте в таблице с рецептами следующие столбцы: `id`, `name`, `minutes`, `submitted`, `description`, `n_ingredients`"
      ]
    },
    {
      "cell_type": "code",
      "execution_count": null,
      "metadata": {
        "id": "4Vn_YjrkvgeW"
      },
      "outputs": [],
      "source": [
        "from pathlib import Path\n",
        "\n",
        "current = Path('.').resolve()\n",
        "rev = current.parents[0] / 'лаба 2/data/reviews_sample.csv'\n",
        "rec = current.parents[0] / 'лаба 5/data/recipes_sample.csv'\n",
        "\n",
        "recipes,reviews = pd.read_csv(rec,sep=',',header=0,engine='python')[['id', 'name', 'minutes', 'submitted', 'description','n_ingredients']],pd.read_csv(rev,sep=',',header=0,engine='python')\n"
      ]
    },
    {
      "cell_type": "markdown",
      "metadata": {
        "id": "eHEPJbxnvgeX"
      },
      "source": [
        "2. Случайным образом выберите 5% строк из каждой таблицы и сохраните две таблицы на разные листы в один файл `recipes.xlsx`. Дайте листам названия \"Рецепты\" и \"Отзывы\", соответствующие содержанию таблиц. "
      ]
    },
    {
      "cell_type": "code",
      "execution_count": null,
      "metadata": {
        "id": "HOav6MPbvgeY"
      },
      "outputs": [],
      "source": [
        "rev_perc,rec_perc= reviews.sample(frac=0.05),recipes.sample(frac=0.05)\n",
        "\n",
        "with pd.ExcelWriter(\"data/7_1_2_result.xlsx\") as writer:\n",
        "    rec_perc.to_excel(writer,sheet_name=\"Рецепты\")\n",
        "    rev_perc.to_excel(writer,sheet_name=\"Отзывы\")"
      ]
    },
    {
      "cell_type": "markdown",
      "metadata": {
        "id": "SDVNUUXivgeZ"
      },
      "source": [
        "3. Используя `xlwings`, добавьте на лист `Рецепты` столбец `seconds_assign`, показывающий время выполнения рецепта в секундах. Выполните задание при помощи присваивания массива значений диапазону ячеек."
      ]
    },
    {
      "cell_type": "code",
      "execution_count": null,
      "metadata": {
        "id": "tENVJv3OvgeZ"
      },
      "outputs": [],
      "source": [
        "import xlwings as xw\n",
        "\n",
        "wb = xw.Book('data/7_1_2_result.xlsx')\n",
        "\n",
        "sheet = wb.sheets['Рецепты']\n",
        "sheet[\"H1\"].value = 'seconds_assign'\n",
        "sheet[\"H2:H1501\"].options(index=False,header=False).value = rec_perc['minutes']*60\n",
        "\n"
      ]
    },
    {
      "cell_type": "markdown",
      "metadata": {
        "id": "gHI8fQJzvgea"
      },
      "source": [
        "4. Используя `xlwings`, добавьте на лист `Рецепты` столбец `seconds_formula`, показывающий время выполнения рецепта в секундах. Выполните задание при помощи формул Excel."
      ]
    },
    {
      "cell_type": "code",
      "execution_count": null,
      "metadata": {
        "id": "i__Wf5pLvgea"
      },
      "outputs": [],
      "source": [
        "sheet[\"I1\"].value = 'seconds_formula'\n",
        "range_name = xw.Range('D2').expand('down').address\n",
        "sheet[\"I2:I1501\"].formula = f'={range_name}*60'"
      ]
    },
    {
      "cell_type": "markdown",
      "metadata": {
        "id": "pAAxJSzHvgeb"
      },
      "source": [
        "5. Сделайте названия всех добавленных столбцов полужирными и выровняйте по центру ячейки."
      ]
    },
    {
      "cell_type": "code",
      "execution_count": null,
      "metadata": {
        "id": "qUb6bNKSvgeb"
      },
      "outputs": [],
      "source": [
        "xw.Range('H1:I1').api.Font.Bold=True\n",
        "xw.Range('H1:I1').api.HorizontalAlignment = xw.constants.HAlign.xlHAlignCenter"
      ]
    },
    {
      "cell_type": "markdown",
      "metadata": {
        "id": "XfMTVH2Fvgec"
      },
      "source": [
        "6. Раскрасьте ячейки столбца `minutes` в соответствии со следующим правилом: если рецепт выполняется быстрее 5 минут, то цвет - зеленый; от 5 до 10 минут - жёлтый; и больше 10 - красный."
      ]
    },
    {
      "cell_type": "code",
      "execution_count": null,
      "metadata": {
        "id": "OCCWlgz3vgec"
      },
      "outputs": [],
      "source": [
        "def color(rng):\n",
        "    for _,v in enumerate(rng):\n",
        "        if v.value < 5:\n",
        "            v.color = (0,255,0)\n",
        "        elif v.value>10:\n",
        "            v.color = (255,0,0)\n",
        "        else:\n",
        "            v.color=(255,255,0)\n",
        "\n",
        "color(xw.Range('D2').expand('down'))"
      ]
    },
    {
      "cell_type": "markdown",
      "metadata": {
        "id": "tHHbMcwsvged"
      },
      "source": [
        "7. Добавьте на лист `Рецепты`  столбец `n_reviews`, содержащий кол-во отзывов для этого рецепта. Выполните задание при помощи формул Excel."
      ]
    },
    {
      "cell_type": "code",
      "execution_count": null,
      "metadata": {
        "id": "9TymIWEnvged"
      },
      "outputs": [],
      "source": [
        "xw.Range('J1').api.Font.Bold=True\n",
        "xw.Range('J1').api.HorizontalAlignment = xw.constants.HAlign.xlHAlignCenter\n",
        "xw.Range('J1').value = 'n_reviews'\n",
        "\n",
        "addr = wb.sheets['Отзывы']['D2'].expand('down').get_address(include_sheetname=True)\n",
        "rng = xw.Range('B2').get_address(row_absolute=False)\n",
        "sheet['J2'].expand('down').formula = f'=COUNTIF({addr},{rng})'"
      ]
    },
    {
      "cell_type": "markdown",
      "metadata": {
        "id": "BSZwhEJWvgee"
      },
      "source": [
        "## Лабораторная работа 7.2"
      ]
    },
    {
      "cell_type": "markdown",
      "metadata": {
        "id": "AWfChgQFvgee"
      },
      "source": [
        "8. Напишите функцию `validate()`, которая проверяет соответствие всех строк из листа `Отзывы` следующим правилам:\n",
        "    * Рейтинг - это число от 0 до 5 включительно\n",
        "    * Соответствующий рецепт имеется на листе `Рецепты`\n",
        "    \n",
        "В случае несоответствия этим правилам, выделите строку красным цветом"
      ]
    },
    {
      "cell_type": "code",
      "execution_count": null,
      "metadata": {
        "id": "OS-nyCewvgef"
      },
      "outputs": [],
      "source": [
        "def validate(rng):\n",
        "    lst = sheet['B2'].expand('down').value\n",
        "    for row in rng.rows:\n",
        "        if row[5].value<0 or row[5].value>5 or row[3].value not in lst:\n",
        "            row.color = (255,0,0)\n",
        "        \n",
        "\n",
        "sheet2 = wb.sheets['Отзывы']\n",
        "rng = sheet2['A2'].expand('right').expand('down')\n",
        "\n",
        "validate(rng)"
      ]
    },
    {
      "cell_type": "markdown",
      "metadata": {
        "id": "HbvtkSvwvgef"
      },
      "source": [
        "9. В файле `recipes_model.csv` находится модель данных предметной области \"рецепты\". При помощи пакета `csv` считайте эти данные. При помощи пакета `xlwings` запишите данные на лист `Модель` книги `recipes_model.xlsx`, начиная с ячейки `A2`, не используя циклы. Сделайте скриншот текущего состояния листа и прикрепите в ячейку ноутбука. "
      ]
    },
    {
      "cell_type": "code",
      "execution_count": null,
      "metadata": {
        "id": "Z6KspIRwvgeg",
        "outputId": "d6bf0a7d-747b-47af-d894-68268dfffdbd"
      },
      "outputs": [
        {
          "name": "stdout",
          "output_type": "stream",
          "text": [
            "[['recipe', 'name', 'varchar(100)', 'Y', 'Р', 'РµС†РµРїС‚', 'РќР°Р·РІР°РЅРёРµ', 'СЂРµС†РµРїС‚Р°'], ['recipe', 'id', 'serial', 'N', 'Р', 'РµС†РµРїС‚', 'ID', 'СЂРµС†РµРїС‚Р°', 'PK'], ['recipe', 'minutes', 'int', 'Y', 'Р', 'РµС†РµРїС‚', 'Р”Р»РёС‚РµР»СЊРЅРѕСЃС‚СЊ', 'РІС‹РїРѕР»РЅРµРЅРёСЏ', 'РІ', 'РјРёРЅСѓС‚Р°С…'], ['recipe', 'contributor_id', 'int', 'Y', 'Р', 'РµС†РµРїС‚', 'ID', 'Р°РІС‚РѕСЂР°', 'СЂРµС†РµРїС‚Р°', 'FK', 'user', 'id'], ['recipe', 'submitted', 'timestamp', 'Y', 'Р', 'РµС†РµРїС‚', 'Р”Р°С‚Р°', 'РґРѕР±Р°РІР»РµРЅРёСЏ'], ['recipe', 'n_steps', 'int', 'N', 'Р', 'РµС†РµРїС‚', 'РљРѕР»-РІРѕ', 'С€Р°РіРѕРІ', 'СЂРµС†РµРїС‚Р°'], ['recipe', 'description', 'text', 'N', 'Р', 'РµС†РµРїС‚', 'РћРїРёСЃР°РЅРёРµ', 'СЂРµС†РµРїС‚Р°'], ['recipe', 'n_ingredients', 'int', 'N', 'Р', 'РµС†РµРїС‚', 'РљРѕР»-РІРѕ', 'РёРЅРіСЂРµРґРёРµРЅС‚РѕРІ', 'РІ', 'СЂРµС†РµРїС‚Р°'], ['review', 'id', 'serial', 'Y', 'РћС‚Р·С‹РІ', 'ID', 'РѕС‚Р·С‹РІР°', 'PK'], ['review', 'user_id', 'int', 'Y', 'РћС‚Р·С‹РІ', 'ID', 'Р°РІС‚РѕСЂР°', 'РѕС‚Р·С‹РІР°', 'FK'], ['review', 'recipe_id', 'int', 'Y', 'РћС‚Р·С‹РІ', 'ID', 'СЂРµС†РµРїС‚Р°', 'FK', 'recipe', 'id'], ['review', 'date', 'timestamp', 'Y', 'РћС‚Р·С‹РІ', 'Р”Р°С‚Р°', 'РґРѕР±Р°РІР»РµРЅРёСЏ', 'РѕС‚Р·С‹РІР°'], ['review', 'rating', 'int', 'Y', 'РћС‚Р·С‹РІ', 'Р', 'РµР№С‚РёРЅРі', 'РѕС‚Р·С‹РІР°'], ['review', 'review', 'test', 'N', 'РћС‚Р·С‹РІ', 'РўРµРєСЃС‚РѕРІРѕРµ', 'РѕРїРёСЃР°РЅРёРµ', 'РѕС‚Р·С‹РІР°'], ['user', 'id', 'serial', 'Y', 'РџРѕР»СЊР·РѕРІР°С‚РµР»СЊ', 'ID', 'РїРѕР»СЊР·РѕРІР°С‚РµР»СЏ', 'PK'], ['user', 'login', 'varchar(20)', 'Y', 'РџРѕР»СЊР·РѕРІР°С‚РµР»СЊ', 'Р›РѕРіРёРЅ', 'РїРѕР»СЊР·РѕРІР°С‚РµР»СЏ'], ['user', 'registered', 'timestamp', 'Y', 'РџРѕР»СЊР·РѕРІР°С‚РµР»СЊ', 'Р”Р°С‚Р°', 'СЂРµРіРёСЃС‚СЂР°С†РёРё', 'РїРѕР»СЊР·РѕРІР°С‚РµР»СЏ']]\n"
          ]
        },
        {
          "ename": "com_error",
          "evalue": "(-2147352567, 'Ошибка.', (0, 'Microsoft Excel', 'Не удается открыть файл \"recipes_model.xlsx\", так как формат или расширение этого файла являются недопустимыми. Убедитесь, что файл не поврежден и расширение его имени соответствует его формату.', 'xlmain11.chm', 0, -2146827284), None)",
          "output_type": "error",
          "traceback": [
            "\u001b[1;31m---------------------------------------------------------------------------\u001b[0m",
            "\u001b[1;31mcom_error\u001b[0m                                 Traceback (most recent call last)",
            "File \u001b[1;32mc:\\python39\\lib\\site-packages\\xlwings\\_xlwindows.py:763\u001b[0m, in \u001b[0;36mBooks.__call__\u001b[1;34m(self, name_or_index)\u001b[0m\n\u001b[0;32m    762\u001b[0m \u001b[38;5;28;01mtry\u001b[39;00m:\n\u001b[1;32m--> 763\u001b[0m     \u001b[38;5;28;01mreturn\u001b[39;00m Book(xl\u001b[38;5;241m=\u001b[39m\u001b[38;5;28;43mself\u001b[39;49m\u001b[38;5;241;43m.\u001b[39;49m\u001b[43mxl\u001b[49m\u001b[43m(\u001b[49m\u001b[43mname_or_index\u001b[49m\u001b[43m)\u001b[49m)\n\u001b[0;32m    764\u001b[0m \u001b[38;5;28;01mexcept\u001b[39;00m pywintypes\u001b[38;5;241m.\u001b[39mcom_error:\n",
            "File \u001b[1;32mc:\\python39\\lib\\site-packages\\xlwings\\_xlwindows.py:235\u001b[0m, in \u001b[0;36mCOMRetryObjectWrapper.__call__\u001b[1;34m(self, *args, **kwargs)\u001b[0m\n\u001b[0;32m    234\u001b[0m \u001b[38;5;28;01mtry\u001b[39;00m:\n\u001b[1;32m--> 235\u001b[0m     v \u001b[38;5;241m=\u001b[39m \u001b[38;5;28mself\u001b[39m\u001b[38;5;241m.\u001b[39m_inner(\u001b[38;5;241m*\u001b[39margs, \u001b[38;5;241m*\u001b[39m\u001b[38;5;241m*\u001b[39mkwargs)\n\u001b[0;32m    236\u001b[0m     \u001b[38;5;28;01mif\u001b[39;00m \u001b[38;5;28misinstance\u001b[39m(v, (CDispatch, CoClassBaseClass, DispatchBaseClass)):\n",
            "File \u001b[1;32mC:\\Users\\3C8C~1\\AppData\\Local\\Temp\\gen_py\\3.9\\00020813-0000-0000-C000-000000000046x0x1x9.py:39983\u001b[0m, in \u001b[0;36mWorkbooks.__call__\u001b[1;34m(self, Index)\u001b[0m\n\u001b[0;32m  39982\u001b[0m \u001b[38;5;28;01mdef\u001b[39;00m \u001b[38;5;21m__call__\u001b[39m(\u001b[38;5;28mself\u001b[39m, Index\u001b[38;5;241m=\u001b[39mdefaultNamedNotOptArg):\n\u001b[1;32m> 39983\u001b[0m \tret \u001b[38;5;241m=\u001b[39m \u001b[38;5;28;43mself\u001b[39;49m\u001b[38;5;241;43m.\u001b[39;49m\u001b[43m_oleobj_\u001b[49m\u001b[38;5;241;43m.\u001b[39;49m\u001b[43mInvokeTypes\u001b[49m\u001b[43m(\u001b[49m\u001b[38;5;241;43m0\u001b[39;49m\u001b[43m,\u001b[49m\u001b[43m \u001b[49m\u001b[43mLCID\u001b[49m\u001b[43m,\u001b[49m\u001b[43m \u001b[49m\u001b[38;5;241;43m2\u001b[39;49m\u001b[43m,\u001b[49m\u001b[43m \u001b[49m\u001b[43m(\u001b[49m\u001b[38;5;241;43m13\u001b[39;49m\u001b[43m,\u001b[49m\u001b[43m \u001b[49m\u001b[38;5;241;43m0\u001b[39;49m\u001b[43m)\u001b[49m\u001b[43m,\u001b[49m\u001b[43m \u001b[49m\u001b[43m(\u001b[49m\u001b[43m(\u001b[49m\u001b[38;5;241;43m12\u001b[39;49m\u001b[43m,\u001b[49m\u001b[43m \u001b[49m\u001b[38;5;241;43m1\u001b[39;49m\u001b[43m)\u001b[49m\u001b[43m,\u001b[49m\u001b[43m)\u001b[49m\u001b[43m,\u001b[49m\u001b[43mIndex\u001b[49m\n\u001b[0;32m  39984\u001b[0m \u001b[43m\t\t\u001b[49m\u001b[43m)\u001b[49m\n\u001b[0;32m  39985\u001b[0m \t\u001b[38;5;28;01mif\u001b[39;00m ret \u001b[38;5;129;01mis\u001b[39;00m \u001b[38;5;129;01mnot\u001b[39;00m \u001b[38;5;28;01mNone\u001b[39;00m:\n\u001b[0;32m  39986\u001b[0m \t\t\u001b[38;5;66;03m# See if this IUnknown is really an IDispatch\u001b[39;00m\n",
            "\u001b[1;31mcom_error\u001b[0m: (-2147352567, 'Ошибка.', (0, None, None, None, 0, -2147352565), None)",
            "\nDuring handling of the above exception, another exception occurred:\n",
            "\u001b[1;31mKeyError\u001b[0m                                  Traceback (most recent call last)",
            "File \u001b[1;32mc:\\python39\\lib\\site-packages\\xlwings\\main.py:5048\u001b[0m, in \u001b[0;36mBooks.open\u001b[1;34m(self, fullname, update_links, read_only, format, password, write_res_password, ignore_read_only_recommended, origin, delimiter, editable, notify, converter, add_to_mru, local, corrupt_load, json)\u001b[0m\n\u001b[0;32m   5047\u001b[0m \u001b[38;5;28;01mtry\u001b[39;00m:\n\u001b[1;32m-> 5048\u001b[0m     impl \u001b[38;5;241m=\u001b[39m \u001b[38;5;28;43mself\u001b[39;49m\u001b[38;5;241;43m.\u001b[39;49m\u001b[43mimpl\u001b[49m\u001b[43m(\u001b[49m\u001b[43mname\u001b[49m\u001b[43m)\u001b[49m\n\u001b[0;32m   5049\u001b[0m     \u001b[38;5;28;01mif\u001b[39;00m \u001b[38;5;129;01mnot\u001b[39;00m os\u001b[38;5;241m.\u001b[39mpath\u001b[38;5;241m.\u001b[39msamefile(impl\u001b[38;5;241m.\u001b[39mfullname, fullname):\n",
            "File \u001b[1;32mc:\\python39\\lib\\site-packages\\xlwings\\_xlwindows.py:765\u001b[0m, in \u001b[0;36mBooks.__call__\u001b[1;34m(self, name_or_index)\u001b[0m\n\u001b[0;32m    764\u001b[0m \u001b[38;5;28;01mexcept\u001b[39;00m pywintypes\u001b[38;5;241m.\u001b[39mcom_error:\n\u001b[1;32m--> 765\u001b[0m     \u001b[38;5;28;01mraise\u001b[39;00m \u001b[38;5;167;01mKeyError\u001b[39;00m(name_or_index)\n",
            "\u001b[1;31mKeyError\u001b[0m: 'recipes_model.xlsx'",
            "\nDuring handling of the above exception, another exception occurred:\n",
            "\u001b[1;31mcom_error\u001b[0m                                 Traceback (most recent call last)",
            "Cell \u001b[1;32mIn [16], line 15\u001b[0m\n\u001b[0;32m     10\u001b[0m book_pth \u001b[38;5;241m=\u001b[39m current \u001b[38;5;241m/\u001b[39m \u001b[38;5;124m'\u001b[39m\u001b[38;5;124mdata/recipes_model.xlsx\u001b[39m\u001b[38;5;124m'\u001b[39m\n\u001b[0;32m     12\u001b[0m \u001b[38;5;66;03m# with open(book_pth,'w') as file:\u001b[39;00m\n\u001b[0;32m     13\u001b[0m \u001b[38;5;66;03m#     pass\u001b[39;00m\n\u001b[1;32m---> 15\u001b[0m wb2 \u001b[38;5;241m=\u001b[39m \u001b[43mxw\u001b[49m\u001b[38;5;241;43m.\u001b[39;49m\u001b[43mBook\u001b[49m\u001b[43m(\u001b[49m\u001b[43mbook_pth\u001b[49m\u001b[43m)\u001b[49m\n\u001b[0;32m     16\u001b[0m models \u001b[38;5;241m=\u001b[39m wb2\u001b[38;5;241m.\u001b[39msheets[\u001b[38;5;124m'\u001b[39m\u001b[38;5;124mМодель\u001b[39m\u001b[38;5;124m'\u001b[39m]\n\u001b[0;32m     17\u001b[0m \u001b[38;5;66;03m# models = wb2.sheets.add('Модель')\u001b[39;00m\n",
            "File \u001b[1;32mc:\\python39\\lib\\site-packages\\xlwings\\main.py:920\u001b[0m, in \u001b[0;36mBook.__init__\u001b[1;34m(self, fullname, update_links, read_only, format, password, write_res_password, ignore_read_only_recommended, origin, delimiter, editable, notify, converter, add_to_mru, local, corrupt_load, impl, json, mode, engine)\u001b[0m\n\u001b[0;32m    918\u001b[0m     \u001b[38;5;28;01mif\u001b[39;00m \u001b[38;5;129;01mnot\u001b[39;00m app:\n\u001b[0;32m    919\u001b[0m         app \u001b[38;5;241m=\u001b[39m App(add_book\u001b[38;5;241m=\u001b[39m\u001b[38;5;28;01mFalse\u001b[39;00m)\n\u001b[1;32m--> 920\u001b[0m     impl \u001b[38;5;241m=\u001b[39m \u001b[43mapp\u001b[49m\u001b[38;5;241;43m.\u001b[39;49m\u001b[43mbooks\u001b[49m\u001b[38;5;241;43m.\u001b[39;49m\u001b[43mopen\u001b[49m\u001b[43m(\u001b[49m\n\u001b[0;32m    921\u001b[0m \u001b[43m        \u001b[49m\u001b[43mfullname\u001b[49m\u001b[43m,\u001b[49m\n\u001b[0;32m    922\u001b[0m \u001b[43m        \u001b[49m\u001b[43mupdate_links\u001b[49m\u001b[43m,\u001b[49m\n\u001b[0;32m    923\u001b[0m \u001b[43m        \u001b[49m\u001b[43mread_only\u001b[49m\u001b[43m,\u001b[49m\n\u001b[0;32m    924\u001b[0m \u001b[43m        \u001b[49m\u001b[38;5;28;43mformat\u001b[39;49m\u001b[43m,\u001b[49m\n\u001b[0;32m    925\u001b[0m \u001b[43m        \u001b[49m\u001b[43mpassword\u001b[49m\u001b[43m,\u001b[49m\n\u001b[0;32m    926\u001b[0m \u001b[43m        \u001b[49m\u001b[43mwrite_res_password\u001b[49m\u001b[43m,\u001b[49m\n\u001b[0;32m    927\u001b[0m \u001b[43m        \u001b[49m\u001b[43mignore_read_only_recommended\u001b[49m\u001b[43m,\u001b[49m\n\u001b[0;32m    928\u001b[0m \u001b[43m        \u001b[49m\u001b[43morigin\u001b[49m\u001b[43m,\u001b[49m\n\u001b[0;32m    929\u001b[0m \u001b[43m        \u001b[49m\u001b[43mdelimiter\u001b[49m\u001b[43m,\u001b[49m\n\u001b[0;32m    930\u001b[0m \u001b[43m        \u001b[49m\u001b[43meditable\u001b[49m\u001b[43m,\u001b[49m\n\u001b[0;32m    931\u001b[0m \u001b[43m        \u001b[49m\u001b[43mnotify\u001b[49m\u001b[43m,\u001b[49m\n\u001b[0;32m    932\u001b[0m \u001b[43m        \u001b[49m\u001b[43mconverter\u001b[49m\u001b[43m,\u001b[49m\n\u001b[0;32m    933\u001b[0m \u001b[43m        \u001b[49m\u001b[43madd_to_mru\u001b[49m\u001b[43m,\u001b[49m\n\u001b[0;32m    934\u001b[0m \u001b[43m        \u001b[49m\u001b[43mlocal\u001b[49m\u001b[43m,\u001b[49m\n\u001b[0;32m    935\u001b[0m \u001b[43m        \u001b[49m\u001b[43mcorrupt_load\u001b[49m\u001b[43m,\u001b[49m\n\u001b[0;32m    936\u001b[0m \u001b[43m    \u001b[49m\u001b[43m)\u001b[49m\u001b[38;5;241m.\u001b[39mimpl\n\u001b[0;32m    937\u001b[0m \u001b[38;5;28;01melif\u001b[39;00m \u001b[38;5;28mlen\u001b[39m(candidates) \u001b[38;5;241m>\u001b[39m \u001b[38;5;241m1\u001b[39m:\n\u001b[0;32m    938\u001b[0m     \u001b[38;5;28;01mraise\u001b[39;00m \u001b[38;5;167;01mException\u001b[39;00m(\n\u001b[0;32m    939\u001b[0m         \u001b[38;5;124m\"\u001b[39m\u001b[38;5;124mWorkbook \u001b[39m\u001b[38;5;124m'\u001b[39m\u001b[38;5;132;01m%s\u001b[39;00m\u001b[38;5;124m'\u001b[39m\u001b[38;5;124m is open in more than one Excel instance.\u001b[39m\u001b[38;5;124m\"\u001b[39m\n\u001b[0;32m    940\u001b[0m         \u001b[38;5;241m%\u001b[39m fullname\n\u001b[0;32m    941\u001b[0m     )\n",
            "File \u001b[1;32mc:\\python39\\lib\\site-packages\\xlwings\\main.py:5055\u001b[0m, in \u001b[0;36mBooks.open\u001b[1;34m(self, fullname, update_links, read_only, format, password, write_res_password, ignore_read_only_recommended, origin, delimiter, editable, notify, converter, add_to_mru, local, corrupt_load, json)\u001b[0m\n\u001b[0;32m   5050\u001b[0m         \u001b[38;5;28;01mraise\u001b[39;00m \u001b[38;5;167;01mValueError\u001b[39;00m(\n\u001b[0;32m   5051\u001b[0m             \u001b[38;5;124m\"\u001b[39m\u001b[38;5;124mCannot open two workbooks named \u001b[39m\u001b[38;5;124m'\u001b[39m\u001b[38;5;132;01m%s\u001b[39;00m\u001b[38;5;124m'\u001b[39m\u001b[38;5;124m, even if they are saved in\u001b[39m\u001b[38;5;124m\"\u001b[39m\n\u001b[0;32m   5052\u001b[0m             \u001b[38;5;124m\"\u001b[39m\u001b[38;5;124mdifferent locations.\u001b[39m\u001b[38;5;124m\"\u001b[39m \u001b[38;5;241m%\u001b[39m name\n\u001b[0;32m   5053\u001b[0m         )\n\u001b[0;32m   5054\u001b[0m \u001b[38;5;28;01mexcept\u001b[39;00m \u001b[38;5;167;01mKeyError\u001b[39;00m:\n\u001b[1;32m-> 5055\u001b[0m     impl \u001b[38;5;241m=\u001b[39m \u001b[38;5;28;43mself\u001b[39;49m\u001b[38;5;241;43m.\u001b[39;49m\u001b[43mimpl\u001b[49m\u001b[38;5;241;43m.\u001b[39;49m\u001b[43mopen\u001b[49m\u001b[43m(\u001b[49m\n\u001b[0;32m   5056\u001b[0m \u001b[43m        \u001b[49m\u001b[43mfullname\u001b[49m\u001b[43m,\u001b[49m\n\u001b[0;32m   5057\u001b[0m \u001b[43m        \u001b[49m\u001b[43mupdate_links\u001b[49m\u001b[43m,\u001b[49m\n\u001b[0;32m   5058\u001b[0m \u001b[43m        \u001b[49m\u001b[43mread_only\u001b[49m\u001b[43m,\u001b[49m\n\u001b[0;32m   5059\u001b[0m \u001b[43m        \u001b[49m\u001b[38;5;28;43mformat\u001b[39;49m\u001b[43m,\u001b[49m\n\u001b[0;32m   5060\u001b[0m \u001b[43m        \u001b[49m\u001b[43mpassword\u001b[49m\u001b[43m,\u001b[49m\n\u001b[0;32m   5061\u001b[0m \u001b[43m        \u001b[49m\u001b[43mwrite_res_password\u001b[49m\u001b[43m,\u001b[49m\n\u001b[0;32m   5062\u001b[0m \u001b[43m        \u001b[49m\u001b[43mignore_read_only_recommended\u001b[49m\u001b[43m,\u001b[49m\n\u001b[0;32m   5063\u001b[0m \u001b[43m        \u001b[49m\u001b[43morigin\u001b[49m\u001b[43m,\u001b[49m\n\u001b[0;32m   5064\u001b[0m \u001b[43m        \u001b[49m\u001b[43mdelimiter\u001b[49m\u001b[43m,\u001b[49m\n\u001b[0;32m   5065\u001b[0m \u001b[43m        \u001b[49m\u001b[43meditable\u001b[49m\u001b[43m,\u001b[49m\n\u001b[0;32m   5066\u001b[0m \u001b[43m        \u001b[49m\u001b[43mnotify\u001b[49m\u001b[43m,\u001b[49m\n\u001b[0;32m   5067\u001b[0m \u001b[43m        \u001b[49m\u001b[43mconverter\u001b[49m\u001b[43m,\u001b[49m\n\u001b[0;32m   5068\u001b[0m \u001b[43m        \u001b[49m\u001b[43madd_to_mru\u001b[49m\u001b[43m,\u001b[49m\n\u001b[0;32m   5069\u001b[0m \u001b[43m        \u001b[49m\u001b[43mlocal\u001b[49m\u001b[43m,\u001b[49m\n\u001b[0;32m   5070\u001b[0m \u001b[43m        \u001b[49m\u001b[43mcorrupt_load\u001b[49m\u001b[43m,\u001b[49m\n\u001b[0;32m   5071\u001b[0m \u001b[43m    \u001b[49m\u001b[43m)\u001b[49m\n\u001b[0;32m   5072\u001b[0m \u001b[38;5;28;01mreturn\u001b[39;00m Book(impl\u001b[38;5;241m=\u001b[39mimpl)\n",
            "File \u001b[1;32mc:\\python39\\lib\\site-packages\\xlwings\\_xlwindows.py:796\u001b[0m, in \u001b[0;36mBooks.open\u001b[1;34m(self, fullname, update_links, read_only, format, password, write_res_password, ignore_read_only_recommended, origin, delimiter, editable, notify, converter, add_to_mru, local, corrupt_load)\u001b[0m\n\u001b[0;32m    793\u001b[0m     update_links \u001b[38;5;241m=\u001b[39m UpdateLinks\u001b[38;5;241m.\u001b[39mxlUpdateLinksAlways\n\u001b[0;32m    794\u001b[0m \u001b[38;5;66;03m# Workbooks.Open params are position only on pywin32\u001b[39;00m\n\u001b[0;32m    795\u001b[0m \u001b[38;5;28;01mreturn\u001b[39;00m Book(\n\u001b[1;32m--> 796\u001b[0m     xl\u001b[38;5;241m=\u001b[39m\u001b[38;5;28;43mself\u001b[39;49m\u001b[38;5;241;43m.\u001b[39;49m\u001b[43mxl\u001b[49m\u001b[38;5;241;43m.\u001b[39;49m\u001b[43mOpen\u001b[49m\u001b[43m(\u001b[49m\n\u001b[0;32m    797\u001b[0m \u001b[43m        \u001b[49m\u001b[43mfullname\u001b[49m\u001b[43m,\u001b[49m\n\u001b[0;32m    798\u001b[0m \u001b[43m        \u001b[49m\u001b[43mupdate_links\u001b[49m\u001b[43m,\u001b[49m\n\u001b[0;32m    799\u001b[0m \u001b[43m        \u001b[49m\u001b[43mread_only\u001b[49m\u001b[43m,\u001b[49m\n\u001b[0;32m    800\u001b[0m \u001b[43m        \u001b[49m\u001b[38;5;28;43mformat\u001b[39;49m\u001b[43m,\u001b[49m\n\u001b[0;32m    801\u001b[0m \u001b[43m        \u001b[49m\u001b[43mpassword\u001b[49m\u001b[43m,\u001b[49m\n\u001b[0;32m    802\u001b[0m \u001b[43m        \u001b[49m\u001b[43mwrite_res_password\u001b[49m\u001b[43m,\u001b[49m\n\u001b[0;32m    803\u001b[0m \u001b[43m        \u001b[49m\u001b[43mignore_read_only_recommended\u001b[49m\u001b[43m,\u001b[49m\n\u001b[0;32m    804\u001b[0m \u001b[43m        \u001b[49m\u001b[43morigin\u001b[49m\u001b[43m,\u001b[49m\n\u001b[0;32m    805\u001b[0m \u001b[43m        \u001b[49m\u001b[43mdelimiter\u001b[49m\u001b[43m,\u001b[49m\n\u001b[0;32m    806\u001b[0m \u001b[43m        \u001b[49m\u001b[43meditable\u001b[49m\u001b[43m,\u001b[49m\n\u001b[0;32m    807\u001b[0m \u001b[43m        \u001b[49m\u001b[43mnotify\u001b[49m\u001b[43m,\u001b[49m\n\u001b[0;32m    808\u001b[0m \u001b[43m        \u001b[49m\u001b[43mconverter\u001b[49m\u001b[43m,\u001b[49m\n\u001b[0;32m    809\u001b[0m \u001b[43m        \u001b[49m\u001b[43madd_to_mru\u001b[49m\u001b[43m,\u001b[49m\n\u001b[0;32m    810\u001b[0m \u001b[43m        \u001b[49m\u001b[43mlocal\u001b[49m\u001b[43m,\u001b[49m\n\u001b[0;32m    811\u001b[0m \u001b[43m        \u001b[49m\u001b[43mcorrupt_load\u001b[49m\u001b[43m,\u001b[49m\n\u001b[0;32m    812\u001b[0m \u001b[43m    \u001b[49m\u001b[43m)\u001b[49m\n\u001b[0;32m    813\u001b[0m )\n",
            "File \u001b[1;32mc:\\python39\\lib\\site-packages\\xlwings\\_xlwindows.py:121\u001b[0m, in \u001b[0;36mCOMRetryMethodWrapper.__call__\u001b[1;34m(self, *args, **kwargs)\u001b[0m\n\u001b[0;32m    119\u001b[0m \u001b[38;5;28;01mwhile\u001b[39;00m \u001b[38;5;28;01mTrue\u001b[39;00m:\n\u001b[0;32m    120\u001b[0m     \u001b[38;5;28;01mtry\u001b[39;00m:\n\u001b[1;32m--> 121\u001b[0m         v \u001b[38;5;241m=\u001b[39m \u001b[38;5;28mself\u001b[39m\u001b[38;5;241m.\u001b[39m__method(\u001b[38;5;241m*\u001b[39margs, \u001b[38;5;241m*\u001b[39m\u001b[38;5;241m*\u001b[39mkwargs)\n\u001b[0;32m    122\u001b[0m         \u001b[38;5;28;01mif\u001b[39;00m \u001b[38;5;28misinstance\u001b[39m(v, (CDispatch, CoClassBaseClass, DispatchBaseClass)):\n\u001b[0;32m    123\u001b[0m             \u001b[38;5;28;01mreturn\u001b[39;00m COMRetryObjectWrapper(v)\n",
            "File \u001b[1;32mC:\\Users\\3C8C~1\\AppData\\Local\\Temp\\gen_py\\3.9\\00020813-0000-0000-C000-000000000046x0x1x9.py:39860\u001b[0m, in \u001b[0;36mWorkbooks.Open\u001b[1;34m(self, Filename, UpdateLinks, ReadOnly, Format, Password, WriteResPassword, IgnoreReadOnlyRecommended, Origin, Delimiter, Editable, Notify, Converter, AddToMru, Local, CorruptLoad)\u001b[0m\n\u001b[0;32m  39856\u001b[0m \u001b[38;5;28;01mdef\u001b[39;00m \u001b[38;5;21mOpen\u001b[39m(\u001b[38;5;28mself\u001b[39m, Filename\u001b[38;5;241m=\u001b[39mdefaultNamedNotOptArg, UpdateLinks\u001b[38;5;241m=\u001b[39mdefaultNamedOptArg, ReadOnly\u001b[38;5;241m=\u001b[39mdefaultNamedOptArg, Format\u001b[38;5;241m=\u001b[39mdefaultNamedOptArg\n\u001b[0;32m  39857\u001b[0m \t\t, Password\u001b[38;5;241m=\u001b[39mdefaultNamedOptArg, WriteResPassword\u001b[38;5;241m=\u001b[39mdefaultNamedOptArg, IgnoreReadOnlyRecommended\u001b[38;5;241m=\u001b[39mdefaultNamedOptArg, Origin\u001b[38;5;241m=\u001b[39mdefaultNamedOptArg, Delimiter\u001b[38;5;241m=\u001b[39mdefaultNamedOptArg\n\u001b[0;32m  39858\u001b[0m \t\t, Editable\u001b[38;5;241m=\u001b[39mdefaultNamedOptArg, Notify\u001b[38;5;241m=\u001b[39mdefaultNamedOptArg, Converter\u001b[38;5;241m=\u001b[39mdefaultNamedOptArg, AddToMru\u001b[38;5;241m=\u001b[39mdefaultNamedOptArg, Local\u001b[38;5;241m=\u001b[39mdefaultNamedOptArg\n\u001b[0;32m  39859\u001b[0m \t\t, CorruptLoad\u001b[38;5;241m=\u001b[39mdefaultNamedOptArg):\n\u001b[1;32m> 39860\u001b[0m \tret \u001b[38;5;241m=\u001b[39m \u001b[38;5;28;43mself\u001b[39;49m\u001b[38;5;241;43m.\u001b[39;49m\u001b[43m_oleobj_\u001b[49m\u001b[38;5;241;43m.\u001b[39;49m\u001b[43mInvokeTypes\u001b[49m\u001b[43m(\u001b[49m\u001b[38;5;241;43m1923\u001b[39;49m\u001b[43m,\u001b[49m\u001b[43m \u001b[49m\u001b[43mLCID\u001b[49m\u001b[43m,\u001b[49m\u001b[43m \u001b[49m\u001b[38;5;241;43m1\u001b[39;49m\u001b[43m,\u001b[49m\u001b[43m \u001b[49m\u001b[43m(\u001b[49m\u001b[38;5;241;43m13\u001b[39;49m\u001b[43m,\u001b[49m\u001b[43m \u001b[49m\u001b[38;5;241;43m0\u001b[39;49m\u001b[43m)\u001b[49m\u001b[43m,\u001b[49m\u001b[43m \u001b[49m\u001b[43m(\u001b[49m\u001b[43m(\u001b[49m\u001b[38;5;241;43m8\u001b[39;49m\u001b[43m,\u001b[49m\u001b[43m \u001b[49m\u001b[38;5;241;43m1\u001b[39;49m\u001b[43m)\u001b[49m\u001b[43m,\u001b[49m\u001b[43m \u001b[49m\u001b[43m(\u001b[49m\u001b[38;5;241;43m12\u001b[39;49m\u001b[43m,\u001b[49m\u001b[43m \u001b[49m\u001b[38;5;241;43m17\u001b[39;49m\u001b[43m)\u001b[49m\u001b[43m,\u001b[49m\u001b[43m \u001b[49m\u001b[43m(\u001b[49m\u001b[38;5;241;43m12\u001b[39;49m\u001b[43m,\u001b[49m\u001b[43m \u001b[49m\u001b[38;5;241;43m17\u001b[39;49m\u001b[43m)\u001b[49m\u001b[43m,\u001b[49m\u001b[43m \u001b[49m\u001b[43m(\u001b[49m\u001b[38;5;241;43m12\u001b[39;49m\u001b[43m,\u001b[49m\u001b[43m \u001b[49m\u001b[38;5;241;43m17\u001b[39;49m\u001b[43m)\u001b[49m\u001b[43m,\u001b[49m\u001b[43m \u001b[49m\u001b[43m(\u001b[49m\u001b[38;5;241;43m12\u001b[39;49m\u001b[43m,\u001b[49m\u001b[43m \u001b[49m\u001b[38;5;241;43m17\u001b[39;49m\u001b[43m)\u001b[49m\u001b[43m,\u001b[49m\u001b[43m \u001b[49m\u001b[43m(\u001b[49m\u001b[38;5;241;43m12\u001b[39;49m\u001b[43m,\u001b[49m\u001b[43m \u001b[49m\u001b[38;5;241;43m17\u001b[39;49m\u001b[43m)\u001b[49m\u001b[43m,\u001b[49m\u001b[43m \u001b[49m\u001b[43m(\u001b[49m\u001b[38;5;241;43m12\u001b[39;49m\u001b[43m,\u001b[49m\u001b[43m \u001b[49m\u001b[38;5;241;43m17\u001b[39;49m\u001b[43m)\u001b[49m\u001b[43m,\u001b[49m\u001b[43m \u001b[49m\u001b[43m(\u001b[49m\u001b[38;5;241;43m12\u001b[39;49m\u001b[43m,\u001b[49m\u001b[43m \u001b[49m\u001b[38;5;241;43m17\u001b[39;49m\u001b[43m)\u001b[49m\u001b[43m,\u001b[49m\u001b[43m \u001b[49m\u001b[43m(\u001b[49m\u001b[38;5;241;43m12\u001b[39;49m\u001b[43m,\u001b[49m\u001b[43m \u001b[49m\u001b[38;5;241;43m17\u001b[39;49m\u001b[43m)\u001b[49m\u001b[43m,\u001b[49m\u001b[43m \u001b[49m\u001b[43m(\u001b[49m\u001b[38;5;241;43m12\u001b[39;49m\u001b[43m,\u001b[49m\u001b[43m \u001b[49m\u001b[38;5;241;43m17\u001b[39;49m\u001b[43m)\u001b[49m\u001b[43m,\u001b[49m\u001b[43m \u001b[49m\u001b[43m(\u001b[49m\u001b[38;5;241;43m12\u001b[39;49m\u001b[43m,\u001b[49m\u001b[43m \u001b[49m\u001b[38;5;241;43m17\u001b[39;49m\u001b[43m)\u001b[49m\u001b[43m,\u001b[49m\u001b[43m \u001b[49m\u001b[43m(\u001b[49m\u001b[38;5;241;43m12\u001b[39;49m\u001b[43m,\u001b[49m\u001b[43m \u001b[49m\u001b[38;5;241;43m17\u001b[39;49m\u001b[43m)\u001b[49m\u001b[43m,\u001b[49m\u001b[43m \u001b[49m\u001b[43m(\u001b[49m\u001b[38;5;241;43m12\u001b[39;49m\u001b[43m,\u001b[49m\u001b[43m \u001b[49m\u001b[38;5;241;43m17\u001b[39;49m\u001b[43m)\u001b[49m\u001b[43m,\u001b[49m\u001b[43m \u001b[49m\u001b[43m(\u001b[49m\u001b[38;5;241;43m12\u001b[39;49m\u001b[43m,\u001b[49m\u001b[43m \u001b[49m\u001b[38;5;241;43m17\u001b[39;49m\u001b[43m)\u001b[49m\u001b[43m,\u001b[49m\u001b[43m \u001b[49m\u001b[43m(\u001b[49m\u001b[38;5;241;43m12\u001b[39;49m\u001b[43m,\u001b[49m\u001b[43m \u001b[49m\u001b[38;5;241;43m17\u001b[39;49m\u001b[43m)\u001b[49m\u001b[43m)\u001b[49m\u001b[43m,\u001b[49m\u001b[43mFilename\u001b[49m\n\u001b[0;32m  39861\u001b[0m \u001b[43m\t\t\u001b[49m\u001b[43m,\u001b[49m\u001b[43m \u001b[49m\u001b[43mUpdateLinks\u001b[49m\u001b[43m,\u001b[49m\u001b[43m \u001b[49m\u001b[43mReadOnly\u001b[49m\u001b[43m,\u001b[49m\u001b[43m \u001b[49m\u001b[43mFormat\u001b[49m\u001b[43m,\u001b[49m\u001b[43m \u001b[49m\u001b[43mPassword\u001b[49m\u001b[43m,\u001b[49m\u001b[43m \u001b[49m\u001b[43mWriteResPassword\u001b[49m\n\u001b[0;32m  39862\u001b[0m \u001b[43m\t\t\u001b[49m\u001b[43m,\u001b[49m\u001b[43m \u001b[49m\u001b[43mIgnoreReadOnlyRecommended\u001b[49m\u001b[43m,\u001b[49m\u001b[43m \u001b[49m\u001b[43mOrigin\u001b[49m\u001b[43m,\u001b[49m\u001b[43m \u001b[49m\u001b[43mDelimiter\u001b[49m\u001b[43m,\u001b[49m\u001b[43m \u001b[49m\u001b[43mEditable\u001b[49m\u001b[43m,\u001b[49m\u001b[43m \u001b[49m\u001b[43mNotify\u001b[49m\n\u001b[0;32m  39863\u001b[0m \u001b[43m\t\t\u001b[49m\u001b[43m,\u001b[49m\u001b[43m \u001b[49m\u001b[43mConverter\u001b[49m\u001b[43m,\u001b[49m\u001b[43m \u001b[49m\u001b[43mAddToMru\u001b[49m\u001b[43m,\u001b[49m\u001b[43m \u001b[49m\u001b[43mLocal\u001b[49m\u001b[43m,\u001b[49m\u001b[43m \u001b[49m\u001b[43mCorruptLoad\u001b[49m\u001b[43m)\u001b[49m\n\u001b[0;32m  39864\u001b[0m \t\u001b[38;5;28;01mif\u001b[39;00m ret \u001b[38;5;129;01mis\u001b[39;00m \u001b[38;5;129;01mnot\u001b[39;00m \u001b[38;5;28;01mNone\u001b[39;00m:\n\u001b[0;32m  39865\u001b[0m \t\t\u001b[38;5;66;03m# See if this IUnknown is really an IDispatch\u001b[39;00m\n\u001b[0;32m  39866\u001b[0m \t\t\u001b[38;5;28;01mtry\u001b[39;00m:\n",
            "\u001b[1;31mcom_error\u001b[0m: (-2147352567, 'Ошибка.', (0, 'Microsoft Excel', 'Не удается открыть файл \"recipes_model.xlsx\", так как формат или расширение этого файла являются недопустимыми. Убедитесь, что файл не поврежден и расширение его имени соответствует его формату.', 'xlmain11.chm', 0, -2146827284), None)"
          ]
        }
      ],
      "source": [
        "import csv\n",
        "arr = []\n",
        "with open('data/recipes_model.csv','r') as file:\n",
        "    readdr = csv.reader(file)\n",
        "    for i in readdr:\n",
        "        arr.append(i[0].split())\n",
        "        \n",
        "    \n",
        "book_pth = current / 'data/recipes_model.xlsx'\n",
        "\n",
        "# with open(book_pth,'w') as file:\n",
        "#     pass\n",
        "\n",
        "wb2 = xw.Book(book_pth)\n",
        "models = wb2.sheets['Модель']\n",
        "# models = wb2.sheets.add('Модель')\n",
        "\n",
        "models['A2'].options(np.array).value = arr\n"
      ]
    },
    {
      "cell_type": "markdown",
      "metadata": {
        "id": "PH6OEwZbvgeh"
      },
      "source": [
        "10. При помощи пакета `xlwings` добавьте в столбец J формулу для описания столбца на языке SQL. Формула должна реализовывать следующую логику:\n",
        "\n",
        "    1\\. в начале строки идут значения из столбцов В и C (значение столбца С приведено к верхнему регистру), разделенные пробелом\n",
        "    \n",
        "    2\\. далее идут слова на основе столбца \"Ключ\"\n",
        "        2.1 если в столбце \"Ключ\" указано значение \"PK\", то дальше через пробел идет ключевое слово \"PRIMARY KEY\"\n",
        "        2.2 если в столбце \"Ключ\" указано значение \"FK\", то дальше через пробел идет ключевое слово \"REFERENCES\", затем значения столбцов H и I в формате \"название_таблицы(название_столбца)\"\n",
        "        \n",
        "    3\\. если в столбце \"Обязательно к заполнению\" указано значение \"Y\" и в столбце \"Ключ\" указано не \"PK\", то дальше через пробел идет ключевое слово \"NOT NULL\".\n",
        "\n",
        "Заполните этой формулой необходимое количество строк, используя \"протягивание\". Количество строк для протягивания определите на основе данных.\n",
        "\n",
        "Сделайте скриншот текущего состояния листа и прикрепите в ячейку ноутбука."
      ]
    },
    {
      "cell_type": "markdown",
      "metadata": {
        "id": "HStoG8Onvgei"
      },
      "source": [
        "11. При помощи пакета `xlwings` измените стилизацию листа `Модель`.\n",
        "* для заголовков добавьте заливку цвета `00ccff`\n",
        "* примените автоподбор ширины столбца;\n",
        "* сделайте шрифт заголовков полужирным;\n",
        "* добавьте таблице автофильтр.\n",
        "\n",
        "Сделайте скриншот текущего состояния листа и прикрепите в ячейку ноутбука."
      ]
    },
    {
      "cell_type": "markdown",
      "metadata": {
        "id": "x-J175LXvgej"
      },
      "source": [
        "12. Посчитайте количество атрибутов для каждой из сущностей. Создайте лист `Статистика` и запишите в него результат группировки, начиная с ячейки \"А1\". Визуализируйте полученный результат при помощи столбчатой диаграммы. Сохраните полученную визуализацию на лист `Статистика`, начиная с ячейки \"E2\".  Сделайте скриншот листа `Статистика` и прикрепите в ячейку ноутбука.\n",
        "\n",
        "* Вы можете воспользоваться методами для визуализации, которые поставляются вместе с объектами `pandas` (см. https://pandas.pydata.org/docs/reference/api/pandas.DataFrame.plot) "
      ]
    }
  ],
  "metadata": {
    "kernelspec": {
      "display_name": "Python 3 (ipykernel)",
      "language": "python",
      "name": "python3"
    },
    "language_info": {
      "codemirror_mode": {
        "name": "ipython",
        "version": 3
      },
      "file_extension": ".py",
      "mimetype": "text/x-python",
      "name": "python",
      "nbconvert_exporter": "python",
      "pygments_lexer": "ipython3",
      "version": "3.9.0"
    },
    "colab": {
      "provenance": [],
      "include_colab_link": true
    }
  },
  "nbformat": 4,
  "nbformat_minor": 0
}